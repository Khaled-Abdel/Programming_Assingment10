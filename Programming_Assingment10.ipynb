{
 "cells": [
  {
   "cell_type": "markdown",
   "metadata": {},
   "source": [
    "#1) Write a Python program to find sum of elements in list?"
   ]
  },
  {
   "cell_type": "code",
   "execution_count": 4,
   "metadata": {},
   "outputs": [
    {
     "name": "stdout",
     "output_type": "stream",
     "text": [
      "Enter the range of the list: 6\n",
      "enter the number you want in the list: 2\n",
      "enter the number you want in the list: 6\n",
      "enter the number you want in the list: 8\n",
      "enter the number you want in the list: 9\n",
      "enter the number you want in the list: 3\n",
      "enter the number you want in the list: 22\n",
      " the sum of the numbers in a list [2, 6, 8, 9, 3, 22]  is:  50\n"
     ]
    }
   ],
   "source": [
    "num_range = int(input(\"Enter the range of the list: \"))\n",
    "list_num = []\n",
    "count = 0\n",
    "while count != num_range:\n",
    "    enter = int(input(\"enter the number you want in the list: \"))\n",
    "    list_num.append(enter)\n",
    "    count += 1\n",
    "\n",
    "print(\" the sum of the numbers in a list\", list_num ,\" is: \", sum(list_num))"
   ]
  },
  {
   "cell_type": "markdown",
   "metadata": {},
   "source": [
    "# 2) Write a Python program to  Multiply all numbers in the list?"
   ]
  },
  {
   "cell_type": "markdown",
   "metadata": {},
   "source": [
    "x = [int(input(\"enter a number: \")) for i in range(6)]"
   ]
  },
  {
   "cell_type": "code",
   "execution_count": 9,
   "metadata": {},
   "outputs": [
    {
     "name": "stdout",
     "output_type": "stream",
     "text": [
      "Enter the range of a list: 6\n",
      "enter a number: 1\n",
      "enter a number: 2\n",
      "enter a number: 3\n",
      "enter a number: 4\n",
      "enter a number: 5\n",
      "enter a number: 6\n",
      "the mutiplication of the list [1, 2, 3, 4, 5, 6] is:  720\n"
     ]
    }
   ],
   "source": [
    "# the first two steps to make a list of numbers\n",
    "num_range = int(input(\"Enter the range of a list: \"))\n",
    "list_num = [int(input(\"enter a number: \")) for i in range(num_range)]\n",
    "\n",
    "# to sum all the numbers in a list\n",
    "mult_num = 1\n",
    "for num in range(len(list_num)):\n",
    "    mult_num = list_num[num] * mult_num\n",
    "    \n",
    "print(\"the mutiplication of the list\", list_num, \"is: \", mult_num)\n",
    "    "
   ]
  },
  {
   "cell_type": "markdown",
   "metadata": {},
   "source": [
    "#3) Write a Python program to find smallest number in a list?"
   ]
  },
  {
   "cell_type": "code",
   "execution_count": 11,
   "metadata": {},
   "outputs": [
    {
     "name": "stdout",
     "output_type": "stream",
     "text": [
      "Enter the range of a list: 5\n",
      "enter a number: 10\n",
      "enter a number: 20\n",
      "enter a number: 30\n",
      "enter a number: 40\n",
      "enter a number: 100\n",
      "the samllest number in the list [10, 20, 30, 40, 100] is:  10\n"
     ]
    }
   ],
   "source": [
    "# the first two steps to make a list of numbers\n",
    "num_range = int(input(\"Enter the range of a list: \"))\n",
    "list_num = [int(input(\"enter a number: \")) for i in range(num_range)]\n",
    "\n",
    "print(\"the samllest number in the list\", list_num, \"is: \", min(list_num))"
   ]
  },
  {
   "cell_type": "markdown",
   "metadata": {},
   "source": [
    "#4) Write a Python program to find largest number in a list?"
   ]
  },
  {
   "cell_type": "code",
   "execution_count": 12,
   "metadata": {},
   "outputs": [
    {
     "name": "stdout",
     "output_type": "stream",
     "text": [
      "Enter the range of a list: 5\n",
      "enter a number: 11\n",
      "enter a number: 22\n",
      "enter a number: 33\n",
      "enter a number: 44\n",
      "enter a number: 55\n",
      "the samllest number in the list [11, 22, 33, 44, 55] is:  55\n"
     ]
    }
   ],
   "source": [
    "# the first two steps to make a list of numbers\n",
    "num_range = int(input(\"Enter the range of a list: \"))\n",
    "list_num = [int(input(\"enter a number: \")) for i in range(num_range)]\n",
    "\n",
    "print(\"the largest number in the list\", list_num, \"is: \", max(list_num))"
   ]
  },
  {
   "cell_type": "markdown",
   "metadata": {},
   "source": [
    "#5) Write a Python program to find second largest number in a list?"
   ]
  },
  {
   "cell_type": "code",
   "execution_count": 19,
   "metadata": {},
   "outputs": [
    {
     "name": "stdout",
     "output_type": "stream",
     "text": [
      "The second largest number in the list is 6\n"
     ]
    }
   ],
   "source": [
    "list_num = [1,2,3,4,5,5,6,7]\n",
    "list_num = list(set(list_num))\n",
    "list_max = []\n",
    "\n",
    "for i in range(2):\n",
    "    list_max.append(max(list_num))\n",
    "    list_num.remove(max(list_num))\n",
    "\n",
    "arange_num = list(set(list_max))\n",
    "\n",
    "print(\"The second largest number in the list is {}\".format(arange_num[0]))\n",
    "\n",
    "\n"
   ]
  },
  {
   "cell_type": "markdown",
   "metadata": {},
   "source": [
    "#6) Write a Python program to find N largest elements from a list?"
   ]
  },
  {
   "cell_type": "code",
   "execution_count": 10,
   "metadata": {},
   "outputs": [
    {
     "name": "stdout",
     "output_type": "stream",
     "text": [
      "Enter the nth largest number in the list to find it: 3\n",
      "The nth largest number in the list is 30\n"
     ]
    }
   ],
   "source": [
    "nth = int(input(\"Enter the nth largest number in the list to find it: \"))\n",
    "list_num = [10,20,30,40,50]\n",
    "list_num = list(set(list_num))\n",
    "list_max = []\n",
    "\n",
    "for i in range(nth):\n",
    "    list_max.append(max(list_num))\n",
    "    list_num.remove(max(list_num))\n",
    "\n",
    "list_max.sort()\n",
    "\n",
    "\n",
    "print(\"The nth largest number in the list is {}\".format(list_max[0]))\n",
    "\n",
    "\n"
   ]
  },
  {
   "cell_type": "markdown",
   "metadata": {},
   "source": [
    "#7) Write a Python program to print even numbers in a list?"
   ]
  },
  {
   "cell_type": "code",
   "execution_count": 11,
   "metadata": {},
   "outputs": [
    {
     "name": "stdout",
     "output_type": "stream",
     "text": [
      "Enter the range of a list: 10\n",
      "enter a number: 1\n",
      "enter a number: 2\n",
      "enter a number: 3\n",
      "enter a number: 4\n",
      "enter a number: 5\n",
      "enter a number: 6\n",
      "enter a number: 7\n",
      "enter a number: 8\n",
      "enter a number: 9\n",
      "enter a number: 10\n"
     ]
    },
    {
     "data": {
      "text/plain": [
       "[2, 4, 6, 8, 10]"
      ]
     },
     "execution_count": 11,
     "metadata": {},
     "output_type": "execute_result"
    }
   ],
   "source": [
    "# the first two steps to make a list of numbers\n",
    "num_range = int(input(\"Enter the range of a list: \"))\n",
    "list_num = [int(input(\"enter a number: \")) for i in range(num_range)]\n",
    "\n",
    "\n",
    "[num for num in list_num if num%2==0]"
   ]
  },
  {
   "cell_type": "markdown",
   "metadata": {},
   "source": [
    "#8) Write a Python program to print odd numbers in a List?"
   ]
  },
  {
   "cell_type": "code",
   "execution_count": 9,
   "metadata": {},
   "outputs": [
    {
     "name": "stdout",
     "output_type": "stream",
     "text": [
      "Enter the range of a list: 5\n",
      "enter a number: 1\n",
      "enter a number: 2\n",
      "enter a number: 3\n",
      "enter a number: 4\n",
      "enter a number: 5\n"
     ]
    },
    {
     "data": {
      "text/plain": [
       "[1, 3, 5]"
      ]
     },
     "execution_count": 9,
     "metadata": {},
     "output_type": "execute_result"
    }
   ],
   "source": [
    "# the first two steps to make a list of numbers\n",
    "num_range = int(input(\"Enter the range of a list: \"))\n",
    "list_num = [int(input(\"enter a number: \")) for i in range(num_range)]\n",
    "\n",
    "[num for num in list_num if num%2 != 0]"
   ]
  },
  {
   "cell_type": "markdown",
   "metadata": {},
   "source": [
    "#9) Write a Python program to Remove empty List from List?"
   ]
  },
  {
   "cell_type": "code",
   "execution_count": 6,
   "metadata": {},
   "outputs": [
    {
     "name": "stdout",
     "output_type": "stream",
     "text": [
      "list removed\n",
      "list removed\n",
      "list removed\n"
     ]
    },
    {
     "data": {
      "text/plain": [
       "[123, 12, 2131, [21, 31, 23], 'khaled', 'ayman']"
      ]
     },
     "execution_count": 6,
     "metadata": {},
     "output_type": "execute_result"
    }
   ],
   "source": [
    "list_num = [123,12,[],[],[],2131,[21,31,23,],\"khaled\",\"ayman\"]\n",
    "count = 0\n",
    "while count != len(list_num):\n",
    "    if list_num[count] == []:\n",
    "        print(\"empty list removed\")\n",
    "        list_num.remove(list_num[count])\n",
    "    else:\n",
    "        count += 1\n",
    "list_num  "
   ]
  },
  {
   "cell_type": "markdown",
   "metadata": {},
   "source": [
    "#10) Write a Python program to Cloning or Copying a list?"
   ]
  },
  {
   "cell_type": "code",
   "execution_count": 8,
   "metadata": {},
   "outputs": [
    {
     "data": {
      "text/plain": [
       "[1, 2, 3, 4, 5]"
      ]
     },
     "execution_count": 8,
     "metadata": {},
     "output_type": "execute_result"
    }
   ],
   "source": [
    "list_num = [1,2,3,4,5]\n",
    "list_copy= list_num[:]\n",
    "list_copy\n"
   ]
  },
  {
   "cell_type": "markdown",
   "metadata": {},
   "source": [
    "#11) Write a Python program to Count occurrences of an element in a list?"
   ]
  },
  {
   "cell_type": "code",
   "execution_count": 4,
   "metadata": {},
   "outputs": [
    {
     "name": "stdout",
     "output_type": "stream",
     "text": [
      "Enter the number to check for occurrences: 55\n",
      "The number of occurrences of 55 in list is 5 \n"
     ]
    }
   ],
   "source": [
    "list_num = [1,2,3,4,4,4,55,55,55,55,55,65,22,\"khaled\",\"ayman\"]\n",
    "check = int(input(\"Enter the number to check for occurrences: \"))\n",
    "\n",
    "count = 0\n",
    "while check in list_num:\n",
    "    count += 1\n",
    "    list_num.remove(check)\n",
    "    \n",
    "print(\"The number of occurrences of {} in list is {} \".format(check,count))\n",
    "    \n",
    "\n",
    "\n",
    "\n"
   ]
  }
 ],
 "metadata": {
  "kernelspec": {
   "display_name": "Python 3",
   "language": "python",
   "name": "python3"
  },
  "language_info": {
   "codemirror_mode": {
    "name": "ipython",
    "version": 3
   },
   "file_extension": ".py",
   "mimetype": "text/x-python",
   "name": "python",
   "nbconvert_exporter": "python",
   "pygments_lexer": "ipython3",
   "version": "3.8.5"
  }
 },
 "nbformat": 4,
 "nbformat_minor": 4
}
